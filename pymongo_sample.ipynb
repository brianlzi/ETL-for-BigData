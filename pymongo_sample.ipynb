{
 "cells": [
  {
   "cell_type": "code",
   "execution_count": 18,
   "id": "ed7c98fd-be86-4cfd-adfe-423d75a3aa6b",
   "metadata": {},
   "outputs": [],
   "source": [
    "# importing module\n",
    "from pymongo import MongoClient\n",
    "\n",
    "# creation of MongoClient\n",
    "client=MongoClient()\n",
    "\n",
    "# Connect with the portnumber and host\n",
    "client = MongoClient(\"mongodb://mongo1:27017,mongo2:27018,mongo3:27019\")\n"
   ]
  },
  {
   "cell_type": "code",
   "execution_count": 19,
   "id": "e584bd8b-145e-4993-8416-43c4d4888773",
   "metadata": {},
   "outputs": [
    {
     "data": {
      "text/plain": [
       "MongoClient(host=['mongo1:27017', 'mongo3:27019', 'mongo2:27018'], document_class=dict, tz_aware=False, connect=True)"
      ]
     },
     "execution_count": 19,
     "metadata": {},
     "output_type": "execute_result"
    }
   ],
   "source": [
    "client"
   ]
  },
  {
   "cell_type": "code",
   "execution_count": 22,
   "id": "1bc08e1b-c442-4ad0-b95f-b26fc8701d56",
   "metadata": {},
   "outputs": [],
   "source": [
    "# Access database\n",
    "mydatabase = client[\"Stocks\"]\n",
    "\n",
    "# Access collection of the database\n",
    "mycollection=mydatabase[\"Source\"]\n",
    "\n"
   ]
  },
  {
   "cell_type": "code",
   "execution_count": 24,
   "id": "35e31c22-2c60-4e2a-b322-4045607b97f8",
   "metadata": {},
   "outputs": [
    {
     "name": "stdout",
     "output_type": "stream",
     "text": [
      "{'_id': ObjectId('5f527ac22f6a1552edb3cf44'), 'company_symbol': 'IAC', 'company_name': 'ITCHY ACRE CORPORATION', 'price': 43.38, 'tx_time': '2020-09-04T13:34:58Z'}\n"
     ]
    }
   ],
   "source": [
    "cursor = mycollection.find({})\n",
    "for document in cursor:\n",
    "    print(document)\n",
    "    break"
   ]
  }
 ],
 "metadata": {
  "kernelspec": {
   "display_name": "Python 3 (ipykernel)",
   "language": "python",
   "name": "python3"
  },
  "language_info": {
   "codemirror_mode": {
    "name": "ipython",
    "version": 3
   },
   "file_extension": ".py",
   "mimetype": "text/x-python",
   "name": "python",
   "nbconvert_exporter": "python",
   "pygments_lexer": "ipython3",
   "version": "3.9.7"
  }
 },
 "nbformat": 4,
 "nbformat_minor": 5
}
